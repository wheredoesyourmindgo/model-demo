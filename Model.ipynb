{
 "cells": [
  {
   "cell_type": "code",
   "execution_count": 1,
   "id": "925d79e1-76cd-4494-9fb8-fd946e19b8f3",
   "metadata": {},
   "outputs": [],
   "source": [
    "import seaborn as sns\n",
    "import matplotlib.pyplot as plt\n",
    "import pandas as pd\n",
    "import numpy as np\n",
    "from sklearn.model_selection import train_test_split\n",
    "from sklearn.preprocessing import StandardScaler\n",
    "from sklearn.linear_model import ElasticNet\n",
    "from sklearn.model_selection import GridSearchCV\n",
    "from sklearn.metrics import mean_squared_error\n",
    "from sklearn.metrics import mean_absolute_error\n",
    "from joblib import dump, load"
   ]
  },
  {
   "cell_type": "code",
   "execution_count": 2,
   "id": "f3844614-4d58-4092-b66c-b55dfab0af99",
   "metadata": {},
   "outputs": [],
   "source": [
    "df = pd.read_csv('./data/model_data.csv')"
   ]
  },
  {
   "cell_type": "code",
   "execution_count": 3,
   "id": "496525bd-91e5-48b8-af00-8757a1327380",
   "metadata": {},
   "outputs": [],
   "source": [
    "df = df.set_index('Index')"
   ]
  },
  {
   "cell_type": "code",
   "execution_count": 4,
   "id": "b9841a97-04d6-4ddb-a024-7641d063a7d8",
   "metadata": {},
   "outputs": [
    {
     "data": {
      "text/html": [
       "<div>\n",
       "<style scoped>\n",
       "    .dataframe tbody tr th:only-of-type {\n",
       "        vertical-align: middle;\n",
       "    }\n",
       "\n",
       "    .dataframe tbody tr th {\n",
       "        vertical-align: top;\n",
       "    }\n",
       "\n",
       "    .dataframe thead th {\n",
       "        text-align: right;\n",
       "    }\n",
       "</style>\n",
       "<table border=\"1\" class=\"dataframe\">\n",
       "  <thead>\n",
       "    <tr style=\"text-align: right;\">\n",
       "      <th></th>\n",
       "      <th>Datetime</th>\n",
       "      <th>Storage</th>\n",
       "      <th>Date</th>\n",
       "      <th>GasPrice</th>\n",
       "      <th>DayOfYear</th>\n",
       "      <th>MaxTemp</th>\n",
       "      <th>CaisoPrice</th>\n",
       "      <th>OxbowFlow</th>\n",
       "    </tr>\n",
       "    <tr>\n",
       "      <th>Index</th>\n",
       "      <th></th>\n",
       "      <th></th>\n",
       "      <th></th>\n",
       "      <th></th>\n",
       "      <th></th>\n",
       "      <th></th>\n",
       "      <th></th>\n",
       "      <th></th>\n",
       "    </tr>\n",
       "  </thead>\n",
       "  <tbody>\n",
       "    <tr>\n",
       "      <th>0</th>\n",
       "      <td>2018-01-01 08:00:00+00:00</td>\n",
       "      <td>160707.4</td>\n",
       "      <td>2018-01-01</td>\n",
       "      <td>5.00</td>\n",
       "      <td>1.0</td>\n",
       "      <td>58.0</td>\n",
       "      <td>35.027855</td>\n",
       "      <td>272.556824</td>\n",
       "    </tr>\n",
       "    <tr>\n",
       "      <th>1</th>\n",
       "      <td>2018-01-02 08:00:00+00:00</td>\n",
       "      <td>160224.4</td>\n",
       "      <td>2018-01-02</td>\n",
       "      <td>6.24</td>\n",
       "      <td>2.0</td>\n",
       "      <td>59.0</td>\n",
       "      <td>33.401521</td>\n",
       "      <td>253.365768</td>\n",
       "    </tr>\n",
       "    <tr>\n",
       "      <th>2</th>\n",
       "      <td>2018-01-03 08:00:00+00:00</td>\n",
       "      <td>159105.3</td>\n",
       "      <td>2018-01-03</td>\n",
       "      <td>6.24</td>\n",
       "      <td>3.0</td>\n",
       "      <td>60.0</td>\n",
       "      <td>70.573712</td>\n",
       "      <td>672.777900</td>\n",
       "    </tr>\n",
       "    <tr>\n",
       "      <th>3</th>\n",
       "      <td>2018-01-04 08:00:00+00:00</td>\n",
       "      <td>157783.6</td>\n",
       "      <td>2018-01-04</td>\n",
       "      <td>4.65</td>\n",
       "      <td>4.0</td>\n",
       "      <td>49.0</td>\n",
       "      <td>39.374058</td>\n",
       "      <td>574.729000</td>\n",
       "    </tr>\n",
       "    <tr>\n",
       "      <th>4</th>\n",
       "      <td>2018-01-05 08:00:00+00:00</td>\n",
       "      <td>157012.5</td>\n",
       "      <td>2018-01-05</td>\n",
       "      <td>3.77</td>\n",
       "      <td>5.0</td>\n",
       "      <td>46.0</td>\n",
       "      <td>50.158102</td>\n",
       "      <td>533.206500</td>\n",
       "    </tr>\n",
       "  </tbody>\n",
       "</table>\n",
       "</div>"
      ],
      "text/plain": [
       "                        Datetime   Storage        Date  GasPrice  DayOfYear  \\\n",
       "Index                                                                         \n",
       "0      2018-01-01 08:00:00+00:00  160707.4  2018-01-01      5.00        1.0   \n",
       "1      2018-01-02 08:00:00+00:00  160224.4  2018-01-02      6.24        2.0   \n",
       "2      2018-01-03 08:00:00+00:00  159105.3  2018-01-03      6.24        3.0   \n",
       "3      2018-01-04 08:00:00+00:00  157783.6  2018-01-04      4.65        4.0   \n",
       "4      2018-01-05 08:00:00+00:00  157012.5  2018-01-05      3.77        5.0   \n",
       "\n",
       "       MaxTemp  CaisoPrice   OxbowFlow  \n",
       "Index                                   \n",
       "0         58.0   35.027855  272.556824  \n",
       "1         59.0   33.401521  253.365768  \n",
       "2         60.0   70.573712  672.777900  \n",
       "3         49.0   39.374058  574.729000  \n",
       "4         46.0   50.158102  533.206500  "
      ]
     },
     "execution_count": 4,
     "metadata": {},
     "output_type": "execute_result"
    }
   ],
   "source": [
    "df.head()"
   ]
  },
  {
   "cell_type": "code",
   "execution_count": 5,
   "id": "33b208ed-02a9-4650-b685-c08daeefda11",
   "metadata": {},
   "outputs": [],
   "source": [
    "y = df['OxbowFlow']\n",
    "X = df.drop(columns=['Date', 'Datetime', 'OxbowFlow'])\n",
    "# X = df.drop(columns=['Date', 'Datetime', 'OxbowFlow', 'OxbowPower']) # all columns (except Power)\n",
    "# X = df.drop(columns=['Date', 'Datetime', 'OxbowFlow', 'CaisoPrice', 'GasPrice', 'MaxTemp', 'Storage','OxbowPower']) # just day of year"
   ]
  },
  {
   "cell_type": "code",
   "execution_count": 6,
   "id": "7b447022-2347-4c53-a0de-fe53a374b305",
   "metadata": {},
   "outputs": [
    {
     "name": "stdout",
     "output_type": "stream",
     "text": [
      "<class 'pandas.core.frame.DataFrame'>\n",
      "Index: 1563 entries, 0 to 2057\n",
      "Data columns (total 5 columns):\n",
      " #   Column      Non-Null Count  Dtype  \n",
      "---  ------      --------------  -----  \n",
      " 0   Storage     1563 non-null   float64\n",
      " 1   GasPrice    1563 non-null   float64\n",
      " 2   DayOfYear   1563 non-null   float64\n",
      " 3   MaxTemp     1563 non-null   float64\n",
      " 4   CaisoPrice  1563 non-null   float64\n",
      "dtypes: float64(5)\n",
      "memory usage: 73.3 KB\n"
     ]
    }
   ],
   "source": [
    "X.info()"
   ]
  },
  {
   "cell_type": "code",
   "execution_count": 7,
   "id": "2f53add7-6b42-4f72-8f96-787d826f1e96",
   "metadata": {},
   "outputs": [
    {
     "data": {
      "text/plain": [
       "Index\n",
       "0        272.556824\n",
       "1        253.365768\n",
       "2        672.777900\n",
       "3        574.729000\n",
       "4        533.206500\n",
       "           ...     \n",
       "2053    1008.626280\n",
       "2054    1012.407470\n",
       "2055    1001.064000\n",
       "2056    1004.845150\n",
       "2057    1012.407470\n",
       "Name: OxbowFlow, Length: 1563, dtype: float64"
      ]
     },
     "execution_count": 7,
     "metadata": {},
     "output_type": "execute_result"
    }
   ],
   "source": [
    "y"
   ]
  },
  {
   "cell_type": "code",
   "execution_count": 8,
   "id": "b432b237-86aa-4f2a-bd67-7c853b800672",
   "metadata": {},
   "outputs": [
    {
     "data": {
      "text/html": [
       "<div>\n",
       "<style scoped>\n",
       "    .dataframe tbody tr th:only-of-type {\n",
       "        vertical-align: middle;\n",
       "    }\n",
       "\n",
       "    .dataframe tbody tr th {\n",
       "        vertical-align: top;\n",
       "    }\n",
       "\n",
       "    .dataframe thead th {\n",
       "        text-align: right;\n",
       "    }\n",
       "</style>\n",
       "<table border=\"1\" class=\"dataframe\">\n",
       "  <thead>\n",
       "    <tr style=\"text-align: right;\">\n",
       "      <th></th>\n",
       "      <th>Storage</th>\n",
       "      <th>GasPrice</th>\n",
       "      <th>DayOfYear</th>\n",
       "      <th>MaxTemp</th>\n",
       "      <th>CaisoPrice</th>\n",
       "    </tr>\n",
       "    <tr>\n",
       "      <th>Index</th>\n",
       "      <th></th>\n",
       "      <th></th>\n",
       "      <th></th>\n",
       "      <th></th>\n",
       "      <th></th>\n",
       "    </tr>\n",
       "  </thead>\n",
       "  <tbody>\n",
       "    <tr>\n",
       "      <th>0</th>\n",
       "      <td>160707.4</td>\n",
       "      <td>5.00</td>\n",
       "      <td>1.0</td>\n",
       "      <td>58.0</td>\n",
       "      <td>35.027855</td>\n",
       "    </tr>\n",
       "    <tr>\n",
       "      <th>1</th>\n",
       "      <td>160224.4</td>\n",
       "      <td>6.24</td>\n",
       "      <td>2.0</td>\n",
       "      <td>59.0</td>\n",
       "      <td>33.401521</td>\n",
       "    </tr>\n",
       "    <tr>\n",
       "      <th>2</th>\n",
       "      <td>159105.3</td>\n",
       "      <td>6.24</td>\n",
       "      <td>3.0</td>\n",
       "      <td>60.0</td>\n",
       "      <td>70.573712</td>\n",
       "    </tr>\n",
       "    <tr>\n",
       "      <th>3</th>\n",
       "      <td>157783.6</td>\n",
       "      <td>4.65</td>\n",
       "      <td>4.0</td>\n",
       "      <td>49.0</td>\n",
       "      <td>39.374058</td>\n",
       "    </tr>\n",
       "    <tr>\n",
       "      <th>4</th>\n",
       "      <td>157012.5</td>\n",
       "      <td>3.77</td>\n",
       "      <td>5.0</td>\n",
       "      <td>46.0</td>\n",
       "      <td>50.158102</td>\n",
       "    </tr>\n",
       "    <tr>\n",
       "      <th>...</th>\n",
       "      <td>...</td>\n",
       "      <td>...</td>\n",
       "      <td>...</td>\n",
       "      <td>...</td>\n",
       "      <td>...</td>\n",
       "    </tr>\n",
       "    <tr>\n",
       "      <th>2053</th>\n",
       "      <td>270054.8</td>\n",
       "      <td>2.55</td>\n",
       "      <td>228.0</td>\n",
       "      <td>88.0</td>\n",
       "      <td>138.984797</td>\n",
       "    </tr>\n",
       "    <tr>\n",
       "      <th>2054</th>\n",
       "      <td>268329.2</td>\n",
       "      <td>2.56</td>\n",
       "      <td>229.0</td>\n",
       "      <td>84.0</td>\n",
       "      <td>59.803049</td>\n",
       "    </tr>\n",
       "    <tr>\n",
       "      <th>2055</th>\n",
       "      <td>266471.3</td>\n",
       "      <td>2.44</td>\n",
       "      <td>230.0</td>\n",
       "      <td>81.0</td>\n",
       "      <td>40.905011</td>\n",
       "    </tr>\n",
       "    <tr>\n",
       "      <th>2056</th>\n",
       "      <td>264633.1</td>\n",
       "      <td>2.44</td>\n",
       "      <td>231.0</td>\n",
       "      <td>80.0</td>\n",
       "      <td>37.559229</td>\n",
       "    </tr>\n",
       "    <tr>\n",
       "      <th>2057</th>\n",
       "      <td>262776.8</td>\n",
       "      <td>2.44</td>\n",
       "      <td>232.0</td>\n",
       "      <td>67.0</td>\n",
       "      <td>41.318354</td>\n",
       "    </tr>\n",
       "  </tbody>\n",
       "</table>\n",
       "<p>1563 rows × 5 columns</p>\n",
       "</div>"
      ],
      "text/plain": [
       "        Storage  GasPrice  DayOfYear  MaxTemp  CaisoPrice\n",
       "Index                                                    \n",
       "0      160707.4      5.00        1.0     58.0   35.027855\n",
       "1      160224.4      6.24        2.0     59.0   33.401521\n",
       "2      159105.3      6.24        3.0     60.0   70.573712\n",
       "3      157783.6      4.65        4.0     49.0   39.374058\n",
       "4      157012.5      3.77        5.0     46.0   50.158102\n",
       "...         ...       ...        ...      ...         ...\n",
       "2053   270054.8      2.55      228.0     88.0  138.984797\n",
       "2054   268329.2      2.56      229.0     84.0   59.803049\n",
       "2055   266471.3      2.44      230.0     81.0   40.905011\n",
       "2056   264633.1      2.44      231.0     80.0   37.559229\n",
       "2057   262776.8      2.44      232.0     67.0   41.318354\n",
       "\n",
       "[1563 rows x 5 columns]"
      ]
     },
     "execution_count": 8,
     "metadata": {},
     "output_type": "execute_result"
    }
   ],
   "source": [
    "X"
   ]
  },
  {
   "cell_type": "code",
   "execution_count": 9,
   "id": "2d6c5c01-ee6a-4ca2-970f-31871f49e14b",
   "metadata": {},
   "outputs": [],
   "source": [
    "X_train, X_test, y_train, y_test = train_test_split(X, y, test_size=0.20, random_state=101)"
   ]
  },
  {
   "cell_type": "code",
   "execution_count": 10,
   "id": "407f283a-07d1-4a02-91de-e4977bdad344",
   "metadata": {},
   "outputs": [],
   "source": [
    "scaler = StandardScaler()"
   ]
  },
  {
   "cell_type": "code",
   "execution_count": 11,
   "id": "abd5dcf4-7621-421a-985e-2f91ce7038c0",
   "metadata": {},
   "outputs": [],
   "source": [
    "scaler.fit(X_train)\n",
    "X_train = scaler.transform(X_train)\n",
    "X_test = scaler.transform(X_test)"
   ]
  },
  {
   "cell_type": "code",
   "execution_count": 12,
   "id": "1c255ff0-21a8-4339-b1ec-e25e745b0395",
   "metadata": {},
   "outputs": [],
   "source": [
    "base_elastic_net_model = ElasticNet(max_iter=32000, tol=.01)"
   ]
  },
  {
   "cell_type": "code",
   "execution_count": 13,
   "id": "fb31d834-3b38-4944-a5e3-ddf85092f53e",
   "metadata": {},
   "outputs": [],
   "source": [
    "param_grid = {\n",
    "    'alpha': [0.05,0.1,1,5,10,50,100], \n",
    "    'l1_ratio': [.1,.2,.3,.4,.5,.6,.7,.8,.95,.99,1]\n",
    "}"
   ]
  },
  {
   "cell_type": "code",
   "execution_count": 14,
   "id": "d4b9e6a1-cd17-46ec-9cdc-3979f0810067",
   "metadata": {},
   "outputs": [],
   "source": [
    "grid_model = GridSearchCV(estimator=base_elastic_net_model,\n",
    "                          param_grid=param_grid,\n",
    "                          scoring='neg_mean_squared_error',\n",
    "                          cv=5,\n",
    "                          verbose=2)"
   ]
  },
  {
   "cell_type": "code",
   "execution_count": 15,
   "id": "e0047906-7d3c-4aca-8087-f37f48f646bd",
   "metadata": {},
   "outputs": [
    {
     "name": "stdout",
     "output_type": "stream",
     "text": [
      "Fitting 5 folds for each of 77 candidates, totalling 385 fits\n",
      "[CV] END ...........................alpha=0.05, l1_ratio=0.1; total time=   0.0s\n",
      "[CV] END ...........................alpha=0.05, l1_ratio=0.1; total time=   0.0s\n",
      "[CV] END ...........................alpha=0.05, l1_ratio=0.1; total time=   0.0s\n",
      "[CV] END ...........................alpha=0.05, l1_ratio=0.1; total time=   0.0s\n",
      "[CV] END ...........................alpha=0.05, l1_ratio=0.1; total time=   0.0s\n",
      "[CV] END ...........................alpha=0.05, l1_ratio=0.2; total time=   0.0s\n",
      "[CV] END ...........................alpha=0.05, l1_ratio=0.2; total time=   0.0s\n",
      "[CV] END ...........................alpha=0.05, l1_ratio=0.2; total time=   0.0s\n",
      "[CV] END ...........................alpha=0.05, l1_ratio=0.2; total time=   0.0s\n",
      "[CV] END ...........................alpha=0.05, l1_ratio=0.2; total time=   0.0s\n",
      "[CV] END ...........................alpha=0.05, l1_ratio=0.3; total time=   0.0s\n",
      "[CV] END ...........................alpha=0.05, l1_ratio=0.3; total time=   0.0s\n",
      "[CV] END ...........................alpha=0.05, l1_ratio=0.3; total time=   0.0s\n",
      "[CV] END ...........................alpha=0.05, l1_ratio=0.3; total time=   0.0s\n",
      "[CV] END ...........................alpha=0.05, l1_ratio=0.3; total time=   0.0s\n",
      "[CV] END ...........................alpha=0.05, l1_ratio=0.4; total time=   0.0s\n",
      "[CV] END ...........................alpha=0.05, l1_ratio=0.4; total time=   0.0s\n",
      "[CV] END ...........................alpha=0.05, l1_ratio=0.4; total time=   0.0s\n",
      "[CV] END ...........................alpha=0.05, l1_ratio=0.4; total time=   0.0s\n",
      "[CV] END ...........................alpha=0.05, l1_ratio=0.4; total time=   0.0s\n",
      "[CV] END ...........................alpha=0.05, l1_ratio=0.5; total time=   0.0s\n",
      "[CV] END ...........................alpha=0.05, l1_ratio=0.5; total time=   0.0s\n",
      "[CV] END ...........................alpha=0.05, l1_ratio=0.5; total time=   0.0s\n",
      "[CV] END ...........................alpha=0.05, l1_ratio=0.5; total time=   0.0s\n",
      "[CV] END ...........................alpha=0.05, l1_ratio=0.5; total time=   0.0s\n",
      "[CV] END ...........................alpha=0.05, l1_ratio=0.6; total time=   0.0s\n",
      "[CV] END ...........................alpha=0.05, l1_ratio=0.6; total time=   0.0s\n",
      "[CV] END ...........................alpha=0.05, l1_ratio=0.6; total time=   0.0s\n",
      "[CV] END ...........................alpha=0.05, l1_ratio=0.6; total time=   0.0s\n",
      "[CV] END ...........................alpha=0.05, l1_ratio=0.6; total time=   0.0s\n",
      "[CV] END ...........................alpha=0.05, l1_ratio=0.7; total time=   0.0s\n",
      "[CV] END ...........................alpha=0.05, l1_ratio=0.7; total time=   0.0s\n",
      "[CV] END ...........................alpha=0.05, l1_ratio=0.7; total time=   0.0s\n",
      "[CV] END ...........................alpha=0.05, l1_ratio=0.7; total time=   0.0s\n",
      "[CV] END ...........................alpha=0.05, l1_ratio=0.7; total time=   0.0s\n",
      "[CV] END ...........................alpha=0.05, l1_ratio=0.8; total time=   0.0s\n",
      "[CV] END ...........................alpha=0.05, l1_ratio=0.8; total time=   0.0s\n",
      "[CV] END ...........................alpha=0.05, l1_ratio=0.8; total time=   0.0s\n",
      "[CV] END ...........................alpha=0.05, l1_ratio=0.8; total time=   0.0s\n",
      "[CV] END ...........................alpha=0.05, l1_ratio=0.8; total time=   0.0s\n",
      "[CV] END ..........................alpha=0.05, l1_ratio=0.95; total time=   0.0s\n",
      "[CV] END ..........................alpha=0.05, l1_ratio=0.95; total time=   0.0s\n",
      "[CV] END ..........................alpha=0.05, l1_ratio=0.95; total time=   0.0s\n",
      "[CV] END ..........................alpha=0.05, l1_ratio=0.95; total time=   0.0s\n",
      "[CV] END ..........................alpha=0.05, l1_ratio=0.95; total time=   0.0s\n",
      "[CV] END ..........................alpha=0.05, l1_ratio=0.99; total time=   0.0s\n",
      "[CV] END ..........................alpha=0.05, l1_ratio=0.99; total time=   0.0s\n",
      "[CV] END ..........................alpha=0.05, l1_ratio=0.99; total time=   0.0s\n",
      "[CV] END ..........................alpha=0.05, l1_ratio=0.99; total time=   0.0s\n",
      "[CV] END ..........................alpha=0.05, l1_ratio=0.99; total time=   0.0s\n",
      "[CV] END .............................alpha=0.05, l1_ratio=1; total time=   0.0s\n",
      "[CV] END .............................alpha=0.05, l1_ratio=1; total time=   0.0s\n",
      "[CV] END .............................alpha=0.05, l1_ratio=1; total time=   0.0s\n",
      "[CV] END .............................alpha=0.05, l1_ratio=1; total time=   0.0s\n",
      "[CV] END .............................alpha=0.05, l1_ratio=1; total time=   0.0s\n",
      "[CV] END ............................alpha=0.1, l1_ratio=0.1; total time=   0.0s\n",
      "[CV] END ............................alpha=0.1, l1_ratio=0.1; total time=   0.0s\n",
      "[CV] END ............................alpha=0.1, l1_ratio=0.1; total time=   0.0s\n",
      "[CV] END ............................alpha=0.1, l1_ratio=0.1; total time=   0.0s\n",
      "[CV] END ............................alpha=0.1, l1_ratio=0.1; total time=   0.0s\n",
      "[CV] END ............................alpha=0.1, l1_ratio=0.2; total time=   0.0s\n",
      "[CV] END ............................alpha=0.1, l1_ratio=0.2; total time=   0.0s\n",
      "[CV] END ............................alpha=0.1, l1_ratio=0.2; total time=   0.0s\n",
      "[CV] END ............................alpha=0.1, l1_ratio=0.2; total time=   0.0s\n",
      "[CV] END ............................alpha=0.1, l1_ratio=0.2; total time=   0.0s\n",
      "[CV] END ............................alpha=0.1, l1_ratio=0.3; total time=   0.0s\n",
      "[CV] END ............................alpha=0.1, l1_ratio=0.3; total time=   0.0s\n",
      "[CV] END ............................alpha=0.1, l1_ratio=0.3; total time=   0.0s\n",
      "[CV] END ............................alpha=0.1, l1_ratio=0.3; total time=   0.0s\n",
      "[CV] END ............................alpha=0.1, l1_ratio=0.3; total time=   0.0s\n",
      "[CV] END ............................alpha=0.1, l1_ratio=0.4; total time=   0.0s\n",
      "[CV] END ............................alpha=0.1, l1_ratio=0.4; total time=   0.0s\n",
      "[CV] END ............................alpha=0.1, l1_ratio=0.4; total time=   0.0s\n",
      "[CV] END ............................alpha=0.1, l1_ratio=0.4; total time=   0.0s\n",
      "[CV] END ............................alpha=0.1, l1_ratio=0.4; total time=   0.0s\n",
      "[CV] END ............................alpha=0.1, l1_ratio=0.5; total time=   0.0s\n",
      "[CV] END ............................alpha=0.1, l1_ratio=0.5; total time=   0.0s\n",
      "[CV] END ............................alpha=0.1, l1_ratio=0.5; total time=   0.0s\n",
      "[CV] END ............................alpha=0.1, l1_ratio=0.5; total time=   0.0s\n",
      "[CV] END ............................alpha=0.1, l1_ratio=0.5; total time=   0.0s\n",
      "[CV] END ............................alpha=0.1, l1_ratio=0.6; total time=   0.0s\n",
      "[CV] END ............................alpha=0.1, l1_ratio=0.6; total time=   0.0s\n",
      "[CV] END ............................alpha=0.1, l1_ratio=0.6; total time=   0.0s\n",
      "[CV] END ............................alpha=0.1, l1_ratio=0.6; total time=   0.0s\n",
      "[CV] END ............................alpha=0.1, l1_ratio=0.6; total time=   0.0s\n",
      "[CV] END ............................alpha=0.1, l1_ratio=0.7; total time=   0.0s\n",
      "[CV] END ............................alpha=0.1, l1_ratio=0.7; total time=   0.0s\n",
      "[CV] END ............................alpha=0.1, l1_ratio=0.7; total time=   0.0s\n",
      "[CV] END ............................alpha=0.1, l1_ratio=0.7; total time=   0.0s\n",
      "[CV] END ............................alpha=0.1, l1_ratio=0.7; total time=   0.0s\n",
      "[CV] END ............................alpha=0.1, l1_ratio=0.8; total time=   0.0s\n",
      "[CV] END ............................alpha=0.1, l1_ratio=0.8; total time=   0.0s\n",
      "[CV] END ............................alpha=0.1, l1_ratio=0.8; total time=   0.0s\n",
      "[CV] END ............................alpha=0.1, l1_ratio=0.8; total time=   0.0s\n",
      "[CV] END ............................alpha=0.1, l1_ratio=0.8; total time=   0.0s\n",
      "[CV] END ...........................alpha=0.1, l1_ratio=0.95; total time=   0.0s\n",
      "[CV] END ...........................alpha=0.1, l1_ratio=0.95; total time=   0.0s\n",
      "[CV] END ...........................alpha=0.1, l1_ratio=0.95; total time=   0.0s\n",
      "[CV] END ...........................alpha=0.1, l1_ratio=0.95; total time=   0.0s\n",
      "[CV] END ...........................alpha=0.1, l1_ratio=0.95; total time=   0.0s\n",
      "[CV] END ...........................alpha=0.1, l1_ratio=0.99; total time=   0.0s\n",
      "[CV] END ...........................alpha=0.1, l1_ratio=0.99; total time=   0.0s\n",
      "[CV] END ...........................alpha=0.1, l1_ratio=0.99; total time=   0.0s\n",
      "[CV] END ...........................alpha=0.1, l1_ratio=0.99; total time=   0.0s\n",
      "[CV] END ...........................alpha=0.1, l1_ratio=0.99; total time=   0.0s\n",
      "[CV] END ..............................alpha=0.1, l1_ratio=1; total time=   0.0s\n",
      "[CV] END ..............................alpha=0.1, l1_ratio=1; total time=   0.0s\n",
      "[CV] END ..............................alpha=0.1, l1_ratio=1; total time=   0.0s\n",
      "[CV] END ..............................alpha=0.1, l1_ratio=1; total time=   0.0s\n",
      "[CV] END ..............................alpha=0.1, l1_ratio=1; total time=   0.0s\n",
      "[CV] END ..............................alpha=1, l1_ratio=0.1; total time=   0.0s\n",
      "[CV] END ..............................alpha=1, l1_ratio=0.1; total time=   0.0s\n",
      "[CV] END ..............................alpha=1, l1_ratio=0.1; total time=   0.0s\n",
      "[CV] END ..............................alpha=1, l1_ratio=0.1; total time=   0.0s\n",
      "[CV] END ..............................alpha=1, l1_ratio=0.1; total time=   0.0s\n",
      "[CV] END ..............................alpha=1, l1_ratio=0.2; total time=   0.0s\n",
      "[CV] END ..............................alpha=1, l1_ratio=0.2; total time=   0.0s\n",
      "[CV] END ..............................alpha=1, l1_ratio=0.2; total time=   0.0s\n",
      "[CV] END ..............................alpha=1, l1_ratio=0.2; total time=   0.0s\n",
      "[CV] END ..............................alpha=1, l1_ratio=0.2; total time=   0.0s\n",
      "[CV] END ..............................alpha=1, l1_ratio=0.3; total time=   0.0s\n",
      "[CV] END ..............................alpha=1, l1_ratio=0.3; total time=   0.0s\n",
      "[CV] END ..............................alpha=1, l1_ratio=0.3; total time=   0.0s\n",
      "[CV] END ..............................alpha=1, l1_ratio=0.3; total time=   0.0s\n",
      "[CV] END ..............................alpha=1, l1_ratio=0.3; total time=   0.0s\n",
      "[CV] END ..............................alpha=1, l1_ratio=0.4; total time=   0.0s\n",
      "[CV] END ..............................alpha=1, l1_ratio=0.4; total time=   0.0s\n",
      "[CV] END ..............................alpha=1, l1_ratio=0.4; total time=   0.0s\n",
      "[CV] END ..............................alpha=1, l1_ratio=0.4; total time=   0.0s\n",
      "[CV] END ..............................alpha=1, l1_ratio=0.4; total time=   0.0s\n",
      "[CV] END ..............................alpha=1, l1_ratio=0.5; total time=   0.0s\n",
      "[CV] END ..............................alpha=1, l1_ratio=0.5; total time=   0.0s\n",
      "[CV] END ..............................alpha=1, l1_ratio=0.5; total time=   0.0s\n",
      "[CV] END ..............................alpha=1, l1_ratio=0.5; total time=   0.0s\n",
      "[CV] END ..............................alpha=1, l1_ratio=0.5; total time=   0.0s\n",
      "[CV] END ..............................alpha=1, l1_ratio=0.6; total time=   0.0s\n",
      "[CV] END ..............................alpha=1, l1_ratio=0.6; total time=   0.0s\n",
      "[CV] END ..............................alpha=1, l1_ratio=0.6; total time=   0.0s\n",
      "[CV] END ..............................alpha=1, l1_ratio=0.6; total time=   0.0s\n",
      "[CV] END ..............................alpha=1, l1_ratio=0.6; total time=   0.0s\n",
      "[CV] END ..............................alpha=1, l1_ratio=0.7; total time=   0.0s\n",
      "[CV] END ..............................alpha=1, l1_ratio=0.7; total time=   0.0s\n",
      "[CV] END ..............................alpha=1, l1_ratio=0.7; total time=   0.0s\n",
      "[CV] END ..............................alpha=1, l1_ratio=0.7; total time=   0.0s\n",
      "[CV] END ..............................alpha=1, l1_ratio=0.7; total time=   0.0s\n",
      "[CV] END ..............................alpha=1, l1_ratio=0.8; total time=   0.0s\n",
      "[CV] END ..............................alpha=1, l1_ratio=0.8; total time=   0.0s\n",
      "[CV] END ..............................alpha=1, l1_ratio=0.8; total time=   0.0s\n",
      "[CV] END ..............................alpha=1, l1_ratio=0.8; total time=   0.0s\n",
      "[CV] END ..............................alpha=1, l1_ratio=0.8; total time=   0.0s\n",
      "[CV] END .............................alpha=1, l1_ratio=0.95; total time=   0.0s\n",
      "[CV] END .............................alpha=1, l1_ratio=0.95; total time=   0.0s\n",
      "[CV] END .............................alpha=1, l1_ratio=0.95; total time=   0.0s\n",
      "[CV] END .............................alpha=1, l1_ratio=0.95; total time=   0.0s\n",
      "[CV] END .............................alpha=1, l1_ratio=0.95; total time=   0.0s\n",
      "[CV] END .............................alpha=1, l1_ratio=0.99; total time=   0.0s\n",
      "[CV] END .............................alpha=1, l1_ratio=0.99; total time=   0.0s\n",
      "[CV] END .............................alpha=1, l1_ratio=0.99; total time=   0.0s\n",
      "[CV] END .............................alpha=1, l1_ratio=0.99; total time=   0.0s\n",
      "[CV] END .............................alpha=1, l1_ratio=0.99; total time=   0.0s\n",
      "[CV] END ................................alpha=1, l1_ratio=1; total time=   0.0s\n",
      "[CV] END ................................alpha=1, l1_ratio=1; total time=   0.0s\n",
      "[CV] END ................................alpha=1, l1_ratio=1; total time=   0.0s\n",
      "[CV] END ................................alpha=1, l1_ratio=1; total time=   0.0s\n",
      "[CV] END ................................alpha=1, l1_ratio=1; total time=   0.0s\n",
      "[CV] END ..............................alpha=5, l1_ratio=0.1; total time=   0.0s\n",
      "[CV] END ..............................alpha=5, l1_ratio=0.1; total time=   0.0s\n",
      "[CV] END ..............................alpha=5, l1_ratio=0.1; total time=   0.0s\n",
      "[CV] END ..............................alpha=5, l1_ratio=0.1; total time=   0.0s\n",
      "[CV] END ..............................alpha=5, l1_ratio=0.1; total time=   0.0s\n",
      "[CV] END ..............................alpha=5, l1_ratio=0.2; total time=   0.0s\n",
      "[CV] END ..............................alpha=5, l1_ratio=0.2; total time=   0.0s\n",
      "[CV] END ..............................alpha=5, l1_ratio=0.2; total time=   0.0s\n",
      "[CV] END ..............................alpha=5, l1_ratio=0.2; total time=   0.0s\n",
      "[CV] END ..............................alpha=5, l1_ratio=0.2; total time=   0.0s\n",
      "[CV] END ..............................alpha=5, l1_ratio=0.3; total time=   0.0s\n",
      "[CV] END ..............................alpha=5, l1_ratio=0.3; total time=   0.0s\n",
      "[CV] END ..............................alpha=5, l1_ratio=0.3; total time=   0.0s\n",
      "[CV] END ..............................alpha=5, l1_ratio=0.3; total time=   0.0s\n",
      "[CV] END ..............................alpha=5, l1_ratio=0.3; total time=   0.0s\n",
      "[CV] END ..............................alpha=5, l1_ratio=0.4; total time=   0.0s\n",
      "[CV] END ..............................alpha=5, l1_ratio=0.4; total time=   0.0s\n",
      "[CV] END ..............................alpha=5, l1_ratio=0.4; total time=   0.0s\n",
      "[CV] END ..............................alpha=5, l1_ratio=0.4; total time=   0.0s\n",
      "[CV] END ..............................alpha=5, l1_ratio=0.4; total time=   0.0s\n",
      "[CV] END ..............................alpha=5, l1_ratio=0.5; total time=   0.0s\n",
      "[CV] END ..............................alpha=5, l1_ratio=0.5; total time=   0.0s\n",
      "[CV] END ..............................alpha=5, l1_ratio=0.5; total time=   0.0s\n",
      "[CV] END ..............................alpha=5, l1_ratio=0.5; total time=   0.0s\n",
      "[CV] END ..............................alpha=5, l1_ratio=0.5; total time=   0.0s\n",
      "[CV] END ..............................alpha=5, l1_ratio=0.6; total time=   0.0s\n",
      "[CV] END ..............................alpha=5, l1_ratio=0.6; total time=   0.0s\n",
      "[CV] END ..............................alpha=5, l1_ratio=0.6; total time=   0.0s\n",
      "[CV] END ..............................alpha=5, l1_ratio=0.6; total time=   0.0s\n",
      "[CV] END ..............................alpha=5, l1_ratio=0.6; total time=   0.0s\n",
      "[CV] END ..............................alpha=5, l1_ratio=0.7; total time=   0.0s\n",
      "[CV] END ..............................alpha=5, l1_ratio=0.7; total time=   0.0s\n",
      "[CV] END ..............................alpha=5, l1_ratio=0.7; total time=   0.0s\n",
      "[CV] END ..............................alpha=5, l1_ratio=0.7; total time=   0.0s\n",
      "[CV] END ..............................alpha=5, l1_ratio=0.7; total time=   0.0s\n",
      "[CV] END ..............................alpha=5, l1_ratio=0.8; total time=   0.0s\n",
      "[CV] END ..............................alpha=5, l1_ratio=0.8; total time=   0.0s\n",
      "[CV] END ..............................alpha=5, l1_ratio=0.8; total time=   0.0s\n",
      "[CV] END ..............................alpha=5, l1_ratio=0.8; total time=   0.0s\n",
      "[CV] END ..............................alpha=5, l1_ratio=0.8; total time=   0.0s\n",
      "[CV] END .............................alpha=5, l1_ratio=0.95; total time=   0.0s\n",
      "[CV] END .............................alpha=5, l1_ratio=0.95; total time=   0.0s\n",
      "[CV] END .............................alpha=5, l1_ratio=0.95; total time=   0.0s\n",
      "[CV] END .............................alpha=5, l1_ratio=0.95; total time=   0.0s\n",
      "[CV] END .............................alpha=5, l1_ratio=0.95; total time=   0.0s\n",
      "[CV] END .............................alpha=5, l1_ratio=0.99; total time=   0.0s\n",
      "[CV] END .............................alpha=5, l1_ratio=0.99; total time=   0.0s\n",
      "[CV] END .............................alpha=5, l1_ratio=0.99; total time=   0.0s\n",
      "[CV] END .............................alpha=5, l1_ratio=0.99; total time=   0.0s\n",
      "[CV] END .............................alpha=5, l1_ratio=0.99; total time=   0.0s\n",
      "[CV] END ................................alpha=5, l1_ratio=1; total time=   0.0s\n",
      "[CV] END ................................alpha=5, l1_ratio=1; total time=   0.0s\n",
      "[CV] END ................................alpha=5, l1_ratio=1; total time=   0.0s\n",
      "[CV] END ................................alpha=5, l1_ratio=1; total time=   0.0s\n",
      "[CV] END ................................alpha=5, l1_ratio=1; total time=   0.0s\n",
      "[CV] END .............................alpha=10, l1_ratio=0.1; total time=   0.0s\n",
      "[CV] END .............................alpha=10, l1_ratio=0.1; total time=   0.0s\n",
      "[CV] END .............................alpha=10, l1_ratio=0.1; total time=   0.0s\n",
      "[CV] END .............................alpha=10, l1_ratio=0.1; total time=   0.0s\n",
      "[CV] END .............................alpha=10, l1_ratio=0.1; total time=   0.0s\n",
      "[CV] END .............................alpha=10, l1_ratio=0.2; total time=   0.0s\n",
      "[CV] END .............................alpha=10, l1_ratio=0.2; total time=   0.0s\n",
      "[CV] END .............................alpha=10, l1_ratio=0.2; total time=   0.0s\n",
      "[CV] END .............................alpha=10, l1_ratio=0.2; total time=   0.0s\n",
      "[CV] END .............................alpha=10, l1_ratio=0.2; total time=   0.0s\n",
      "[CV] END .............................alpha=10, l1_ratio=0.3; total time=   0.0s\n",
      "[CV] END .............................alpha=10, l1_ratio=0.3; total time=   0.0s\n",
      "[CV] END .............................alpha=10, l1_ratio=0.3; total time=   0.0s\n",
      "[CV] END .............................alpha=10, l1_ratio=0.3; total time=   0.0s\n",
      "[CV] END .............................alpha=10, l1_ratio=0.3; total time=   0.0s\n",
      "[CV] END .............................alpha=10, l1_ratio=0.4; total time=   0.0s\n",
      "[CV] END .............................alpha=10, l1_ratio=0.4; total time=   0.0s\n",
      "[CV] END .............................alpha=10, l1_ratio=0.4; total time=   0.0s\n",
      "[CV] END .............................alpha=10, l1_ratio=0.4; total time=   0.0s\n",
      "[CV] END .............................alpha=10, l1_ratio=0.4; total time=   0.0s\n",
      "[CV] END .............................alpha=10, l1_ratio=0.5; total time=   0.0s\n",
      "[CV] END .............................alpha=10, l1_ratio=0.5; total time=   0.0s\n",
      "[CV] END .............................alpha=10, l1_ratio=0.5; total time=   0.0s\n",
      "[CV] END .............................alpha=10, l1_ratio=0.5; total time=   0.0s\n",
      "[CV] END .............................alpha=10, l1_ratio=0.5; total time=   0.0s\n",
      "[CV] END .............................alpha=10, l1_ratio=0.6; total time=   0.0s\n",
      "[CV] END .............................alpha=10, l1_ratio=0.6; total time=   0.0s\n",
      "[CV] END .............................alpha=10, l1_ratio=0.6; total time=   0.0s\n",
      "[CV] END .............................alpha=10, l1_ratio=0.6; total time=   0.0s\n",
      "[CV] END .............................alpha=10, l1_ratio=0.6; total time=   0.0s\n",
      "[CV] END .............................alpha=10, l1_ratio=0.7; total time=   0.0s\n",
      "[CV] END .............................alpha=10, l1_ratio=0.7; total time=   0.0s\n",
      "[CV] END .............................alpha=10, l1_ratio=0.7; total time=   0.0s\n",
      "[CV] END .............................alpha=10, l1_ratio=0.7; total time=   0.0s\n",
      "[CV] END .............................alpha=10, l1_ratio=0.7; total time=   0.0s\n",
      "[CV] END .............................alpha=10, l1_ratio=0.8; total time=   0.0s\n",
      "[CV] END .............................alpha=10, l1_ratio=0.8; total time=   0.0s\n",
      "[CV] END .............................alpha=10, l1_ratio=0.8; total time=   0.0s\n",
      "[CV] END .............................alpha=10, l1_ratio=0.8; total time=   0.0s\n",
      "[CV] END .............................alpha=10, l1_ratio=0.8; total time=   0.0s\n",
      "[CV] END ............................alpha=10, l1_ratio=0.95; total time=   0.0s\n",
      "[CV] END ............................alpha=10, l1_ratio=0.95; total time=   0.0s\n",
      "[CV] END ............................alpha=10, l1_ratio=0.95; total time=   0.0s\n",
      "[CV] END ............................alpha=10, l1_ratio=0.95; total time=   0.0s\n",
      "[CV] END ............................alpha=10, l1_ratio=0.95; total time=   0.0s\n",
      "[CV] END ............................alpha=10, l1_ratio=0.99; total time=   0.0s\n",
      "[CV] END ............................alpha=10, l1_ratio=0.99; total time=   0.0s\n",
      "[CV] END ............................alpha=10, l1_ratio=0.99; total time=   0.0s\n",
      "[CV] END ............................alpha=10, l1_ratio=0.99; total time=   0.0s\n",
      "[CV] END ............................alpha=10, l1_ratio=0.99; total time=   0.0s\n",
      "[CV] END ...............................alpha=10, l1_ratio=1; total time=   0.0s\n",
      "[CV] END ...............................alpha=10, l1_ratio=1; total time=   0.0s\n",
      "[CV] END ...............................alpha=10, l1_ratio=1; total time=   0.0s\n",
      "[CV] END ...............................alpha=10, l1_ratio=1; total time=   0.0s\n",
      "[CV] END ...............................alpha=10, l1_ratio=1; total time=   0.0s\n",
      "[CV] END .............................alpha=50, l1_ratio=0.1; total time=   0.0s\n",
      "[CV] END .............................alpha=50, l1_ratio=0.1; total time=   0.0s\n",
      "[CV] END .............................alpha=50, l1_ratio=0.1; total time=   0.0s\n",
      "[CV] END .............................alpha=50, l1_ratio=0.1; total time=   0.0s\n",
      "[CV] END .............................alpha=50, l1_ratio=0.1; total time=   0.0s\n",
      "[CV] END .............................alpha=50, l1_ratio=0.2; total time=   0.0s\n",
      "[CV] END .............................alpha=50, l1_ratio=0.2; total time=   0.0s\n",
      "[CV] END .............................alpha=50, l1_ratio=0.2; total time=   0.0s\n",
      "[CV] END .............................alpha=50, l1_ratio=0.2; total time=   0.0s\n",
      "[CV] END .............................alpha=50, l1_ratio=0.2; total time=   0.0s\n",
      "[CV] END .............................alpha=50, l1_ratio=0.3; total time=   0.0s\n",
      "[CV] END .............................alpha=50, l1_ratio=0.3; total time=   0.0s\n",
      "[CV] END .............................alpha=50, l1_ratio=0.3; total time=   0.0s\n",
      "[CV] END .............................alpha=50, l1_ratio=0.3; total time=   0.0s\n",
      "[CV] END .............................alpha=50, l1_ratio=0.3; total time=   0.0s\n",
      "[CV] END .............................alpha=50, l1_ratio=0.4; total time=   0.0s\n",
      "[CV] END .............................alpha=50, l1_ratio=0.4; total time=   0.0s\n",
      "[CV] END .............................alpha=50, l1_ratio=0.4; total time=   0.0s\n",
      "[CV] END .............................alpha=50, l1_ratio=0.4; total time=   0.0s\n",
      "[CV] END .............................alpha=50, l1_ratio=0.4; total time=   0.0s\n",
      "[CV] END .............................alpha=50, l1_ratio=0.5; total time=   0.0s\n",
      "[CV] END .............................alpha=50, l1_ratio=0.5; total time=   0.0s\n",
      "[CV] END .............................alpha=50, l1_ratio=0.5; total time=   0.0s\n",
      "[CV] END .............................alpha=50, l1_ratio=0.5; total time=   0.0s\n",
      "[CV] END .............................alpha=50, l1_ratio=0.5; total time=   0.0s\n",
      "[CV] END .............................alpha=50, l1_ratio=0.6; total time=   0.0s\n",
      "[CV] END .............................alpha=50, l1_ratio=0.6; total time=   0.0s\n",
      "[CV] END .............................alpha=50, l1_ratio=0.6; total time=   0.0s\n",
      "[CV] END .............................alpha=50, l1_ratio=0.6; total time=   0.0s\n",
      "[CV] END .............................alpha=50, l1_ratio=0.6; total time=   0.0s\n",
      "[CV] END .............................alpha=50, l1_ratio=0.7; total time=   0.0s\n",
      "[CV] END .............................alpha=50, l1_ratio=0.7; total time=   0.0s\n",
      "[CV] END .............................alpha=50, l1_ratio=0.7; total time=   0.0s\n",
      "[CV] END .............................alpha=50, l1_ratio=0.7; total time=   0.0s\n",
      "[CV] END .............................alpha=50, l1_ratio=0.7; total time=   0.0s\n",
      "[CV] END .............................alpha=50, l1_ratio=0.8; total time=   0.0s\n",
      "[CV] END .............................alpha=50, l1_ratio=0.8; total time=   0.0s\n",
      "[CV] END .............................alpha=50, l1_ratio=0.8; total time=   0.0s\n",
      "[CV] END .............................alpha=50, l1_ratio=0.8; total time=   0.0s\n",
      "[CV] END .............................alpha=50, l1_ratio=0.8; total time=   0.0s\n",
      "[CV] END ............................alpha=50, l1_ratio=0.95; total time=   0.0s\n",
      "[CV] END ............................alpha=50, l1_ratio=0.95; total time=   0.0s\n",
      "[CV] END ............................alpha=50, l1_ratio=0.95; total time=   0.0s\n",
      "[CV] END ............................alpha=50, l1_ratio=0.95; total time=   0.0s\n",
      "[CV] END ............................alpha=50, l1_ratio=0.95; total time=   0.0s\n",
      "[CV] END ............................alpha=50, l1_ratio=0.99; total time=   0.0s\n",
      "[CV] END ............................alpha=50, l1_ratio=0.99; total time=   0.0s\n",
      "[CV] END ............................alpha=50, l1_ratio=0.99; total time=   0.0s\n",
      "[CV] END ............................alpha=50, l1_ratio=0.99; total time=   0.0s\n",
      "[CV] END ............................alpha=50, l1_ratio=0.99; total time=   0.0s\n",
      "[CV] END ...............................alpha=50, l1_ratio=1; total time=   0.0s\n",
      "[CV] END ...............................alpha=50, l1_ratio=1; total time=   0.0s\n",
      "[CV] END ...............................alpha=50, l1_ratio=1; total time=   0.0s\n",
      "[CV] END ...............................alpha=50, l1_ratio=1; total time=   0.0s\n",
      "[CV] END ...............................alpha=50, l1_ratio=1; total time=   0.0s\n",
      "[CV] END ............................alpha=100, l1_ratio=0.1; total time=   0.0s\n",
      "[CV] END ............................alpha=100, l1_ratio=0.1; total time=   0.0s\n",
      "[CV] END ............................alpha=100, l1_ratio=0.1; total time=   0.0s\n",
      "[CV] END ............................alpha=100, l1_ratio=0.1; total time=   0.0s\n",
      "[CV] END ............................alpha=100, l1_ratio=0.1; total time=   0.0s\n",
      "[CV] END ............................alpha=100, l1_ratio=0.2; total time=   0.0s\n",
      "[CV] END ............................alpha=100, l1_ratio=0.2; total time=   0.0s\n",
      "[CV] END ............................alpha=100, l1_ratio=0.2; total time=   0.0s\n",
      "[CV] END ............................alpha=100, l1_ratio=0.2; total time=   0.0s\n",
      "[CV] END ............................alpha=100, l1_ratio=0.2; total time=   0.0s\n",
      "[CV] END ............................alpha=100, l1_ratio=0.3; total time=   0.0s\n",
      "[CV] END ............................alpha=100, l1_ratio=0.3; total time=   0.0s\n",
      "[CV] END ............................alpha=100, l1_ratio=0.3; total time=   0.0s\n",
      "[CV] END ............................alpha=100, l1_ratio=0.3; total time=   0.0s\n",
      "[CV] END ............................alpha=100, l1_ratio=0.3; total time=   0.0s\n",
      "[CV] END ............................alpha=100, l1_ratio=0.4; total time=   0.0s\n",
      "[CV] END ............................alpha=100, l1_ratio=0.4; total time=   0.0s\n",
      "[CV] END ............................alpha=100, l1_ratio=0.4; total time=   0.0s\n",
      "[CV] END ............................alpha=100, l1_ratio=0.4; total time=   0.0s\n",
      "[CV] END ............................alpha=100, l1_ratio=0.4; total time=   0.0s\n",
      "[CV] END ............................alpha=100, l1_ratio=0.5; total time=   0.0s\n",
      "[CV] END ............................alpha=100, l1_ratio=0.5; total time=   0.0s\n",
      "[CV] END ............................alpha=100, l1_ratio=0.5; total time=   0.0s\n",
      "[CV] END ............................alpha=100, l1_ratio=0.5; total time=   0.0s\n",
      "[CV] END ............................alpha=100, l1_ratio=0.5; total time=   0.0s\n",
      "[CV] END ............................alpha=100, l1_ratio=0.6; total time=   0.0s\n",
      "[CV] END ............................alpha=100, l1_ratio=0.6; total time=   0.0s\n",
      "[CV] END ............................alpha=100, l1_ratio=0.6; total time=   0.0s\n",
      "[CV] END ............................alpha=100, l1_ratio=0.6; total time=   0.0s\n",
      "[CV] END ............................alpha=100, l1_ratio=0.6; total time=   0.0s\n",
      "[CV] END ............................alpha=100, l1_ratio=0.7; total time=   0.0s\n",
      "[CV] END ............................alpha=100, l1_ratio=0.7; total time=   0.0s\n",
      "[CV] END ............................alpha=100, l1_ratio=0.7; total time=   0.0s\n",
      "[CV] END ............................alpha=100, l1_ratio=0.7; total time=   0.0s\n",
      "[CV] END ............................alpha=100, l1_ratio=0.7; total time=   0.0s\n",
      "[CV] END ............................alpha=100, l1_ratio=0.8; total time=   0.0s\n",
      "[CV] END ............................alpha=100, l1_ratio=0.8; total time=   0.0s\n",
      "[CV] END ............................alpha=100, l1_ratio=0.8; total time=   0.0s\n",
      "[CV] END ............................alpha=100, l1_ratio=0.8; total time=   0.0s\n",
      "[CV] END ............................alpha=100, l1_ratio=0.8; total time=   0.0s\n",
      "[CV] END ...........................alpha=100, l1_ratio=0.95; total time=   0.0s\n",
      "[CV] END ...........................alpha=100, l1_ratio=0.95; total time=   0.0s\n",
      "[CV] END ...........................alpha=100, l1_ratio=0.95; total time=   0.0s\n",
      "[CV] END ...........................alpha=100, l1_ratio=0.95; total time=   0.0s\n",
      "[CV] END ...........................alpha=100, l1_ratio=0.95; total time=   0.0s\n",
      "[CV] END ...........................alpha=100, l1_ratio=0.99; total time=   0.0s\n",
      "[CV] END ...........................alpha=100, l1_ratio=0.99; total time=   0.0s\n",
      "[CV] END ...........................alpha=100, l1_ratio=0.99; total time=   0.0s\n",
      "[CV] END ...........................alpha=100, l1_ratio=0.99; total time=   0.0s\n",
      "[CV] END ...........................alpha=100, l1_ratio=0.99; total time=   0.0s\n",
      "[CV] END ..............................alpha=100, l1_ratio=1; total time=   0.0s\n",
      "[CV] END ..............................alpha=100, l1_ratio=1; total time=   0.0s\n",
      "[CV] END ..............................alpha=100, l1_ratio=1; total time=   0.0s\n",
      "[CV] END ..............................alpha=100, l1_ratio=1; total time=   0.0s\n",
      "[CV] END ..............................alpha=100, l1_ratio=1; total time=   0.0s\n"
     ]
    },
    {
     "data": {
      "text/html": [
       "<style>#sk-container-id-1 {color: black;}#sk-container-id-1 pre{padding: 0;}#sk-container-id-1 div.sk-toggleable {background-color: white;}#sk-container-id-1 label.sk-toggleable__label {cursor: pointer;display: block;width: 100%;margin-bottom: 0;padding: 0.3em;box-sizing: border-box;text-align: center;}#sk-container-id-1 label.sk-toggleable__label-arrow:before {content: \"▸\";float: left;margin-right: 0.25em;color: #696969;}#sk-container-id-1 label.sk-toggleable__label-arrow:hover:before {color: black;}#sk-container-id-1 div.sk-estimator:hover label.sk-toggleable__label-arrow:before {color: black;}#sk-container-id-1 div.sk-toggleable__content {max-height: 0;max-width: 0;overflow: hidden;text-align: left;background-color: #f0f8ff;}#sk-container-id-1 div.sk-toggleable__content pre {margin: 0.2em;color: black;border-radius: 0.25em;background-color: #f0f8ff;}#sk-container-id-1 input.sk-toggleable__control:checked~div.sk-toggleable__content {max-height: 200px;max-width: 100%;overflow: auto;}#sk-container-id-1 input.sk-toggleable__control:checked~label.sk-toggleable__label-arrow:before {content: \"▾\";}#sk-container-id-1 div.sk-estimator input.sk-toggleable__control:checked~label.sk-toggleable__label {background-color: #d4ebff;}#sk-container-id-1 div.sk-label input.sk-toggleable__control:checked~label.sk-toggleable__label {background-color: #d4ebff;}#sk-container-id-1 input.sk-hidden--visually {border: 0;clip: rect(1px 1px 1px 1px);clip: rect(1px, 1px, 1px, 1px);height: 1px;margin: -1px;overflow: hidden;padding: 0;position: absolute;width: 1px;}#sk-container-id-1 div.sk-estimator {font-family: monospace;background-color: #f0f8ff;border: 1px dotted black;border-radius: 0.25em;box-sizing: border-box;margin-bottom: 0.5em;}#sk-container-id-1 div.sk-estimator:hover {background-color: #d4ebff;}#sk-container-id-1 div.sk-parallel-item::after {content: \"\";width: 100%;border-bottom: 1px solid gray;flex-grow: 1;}#sk-container-id-1 div.sk-label:hover label.sk-toggleable__label {background-color: #d4ebff;}#sk-container-id-1 div.sk-serial::before {content: \"\";position: absolute;border-left: 1px solid gray;box-sizing: border-box;top: 0;bottom: 0;left: 50%;z-index: 0;}#sk-container-id-1 div.sk-serial {display: flex;flex-direction: column;align-items: center;background-color: white;padding-right: 0.2em;padding-left: 0.2em;position: relative;}#sk-container-id-1 div.sk-item {position: relative;z-index: 1;}#sk-container-id-1 div.sk-parallel {display: flex;align-items: stretch;justify-content: center;background-color: white;position: relative;}#sk-container-id-1 div.sk-item::before, #sk-container-id-1 div.sk-parallel-item::before {content: \"\";position: absolute;border-left: 1px solid gray;box-sizing: border-box;top: 0;bottom: 0;left: 50%;z-index: -1;}#sk-container-id-1 div.sk-parallel-item {display: flex;flex-direction: column;z-index: 1;position: relative;background-color: white;}#sk-container-id-1 div.sk-parallel-item:first-child::after {align-self: flex-end;width: 50%;}#sk-container-id-1 div.sk-parallel-item:last-child::after {align-self: flex-start;width: 50%;}#sk-container-id-1 div.sk-parallel-item:only-child::after {width: 0;}#sk-container-id-1 div.sk-dashed-wrapped {border: 1px dashed gray;margin: 0 0.4em 0.5em 0.4em;box-sizing: border-box;padding-bottom: 0.4em;background-color: white;}#sk-container-id-1 div.sk-label label {font-family: monospace;font-weight: bold;display: inline-block;line-height: 1.2em;}#sk-container-id-1 div.sk-label-container {text-align: center;}#sk-container-id-1 div.sk-container {/* jupyter's `normalize.less` sets `[hidden] { display: none; }` but bootstrap.min.css set `[hidden] { display: none !important; }` so we also need the `!important` here to be able to override the default hidden behavior on the sphinx rendered scikit-learn.org. See: https://github.com/scikit-learn/scikit-learn/issues/21755 */display: inline-block !important;position: relative;}#sk-container-id-1 div.sk-text-repr-fallback {display: none;}</style><div id=\"sk-container-id-1\" class=\"sk-top-container\"><div class=\"sk-text-repr-fallback\"><pre>GridSearchCV(cv=5, estimator=ElasticNet(max_iter=32000, tol=0.01),\n",
       "             param_grid={&#x27;alpha&#x27;: [0.05, 0.1, 1, 5, 10, 50, 100],\n",
       "                         &#x27;l1_ratio&#x27;: [0.1, 0.2, 0.3, 0.4, 0.5, 0.6, 0.7, 0.8,\n",
       "                                      0.95, 0.99, 1]},\n",
       "             scoring=&#x27;neg_mean_squared_error&#x27;, verbose=2)</pre><b>In a Jupyter environment, please rerun this cell to show the HTML representation or trust the notebook. <br />On GitHub, the HTML representation is unable to render, please try loading this page with nbviewer.org.</b></div><div class=\"sk-container\" hidden><div class=\"sk-item sk-dashed-wrapped\"><div class=\"sk-label-container\"><div class=\"sk-label sk-toggleable\"><input class=\"sk-toggleable__control sk-hidden--visually\" id=\"sk-estimator-id-1\" type=\"checkbox\" ><label for=\"sk-estimator-id-1\" class=\"sk-toggleable__label sk-toggleable__label-arrow\">GridSearchCV</label><div class=\"sk-toggleable__content\"><pre>GridSearchCV(cv=5, estimator=ElasticNet(max_iter=32000, tol=0.01),\n",
       "             param_grid={&#x27;alpha&#x27;: [0.05, 0.1, 1, 5, 10, 50, 100],\n",
       "                         &#x27;l1_ratio&#x27;: [0.1, 0.2, 0.3, 0.4, 0.5, 0.6, 0.7, 0.8,\n",
       "                                      0.95, 0.99, 1]},\n",
       "             scoring=&#x27;neg_mean_squared_error&#x27;, verbose=2)</pre></div></div></div><div class=\"sk-parallel\"><div class=\"sk-parallel-item\"><div class=\"sk-item\"><div class=\"sk-label-container\"><div class=\"sk-label sk-toggleable\"><input class=\"sk-toggleable__control sk-hidden--visually\" id=\"sk-estimator-id-2\" type=\"checkbox\" ><label for=\"sk-estimator-id-2\" class=\"sk-toggleable__label sk-toggleable__label-arrow\">estimator: ElasticNet</label><div class=\"sk-toggleable__content\"><pre>ElasticNet(max_iter=32000, tol=0.01)</pre></div></div></div><div class=\"sk-serial\"><div class=\"sk-item\"><div class=\"sk-estimator sk-toggleable\"><input class=\"sk-toggleable__control sk-hidden--visually\" id=\"sk-estimator-id-3\" type=\"checkbox\" ><label for=\"sk-estimator-id-3\" class=\"sk-toggleable__label sk-toggleable__label-arrow\">ElasticNet</label><div class=\"sk-toggleable__content\"><pre>ElasticNet(max_iter=32000, tol=0.01)</pre></div></div></div></div></div></div></div></div></div></div>"
      ],
      "text/plain": [
       "GridSearchCV(cv=5, estimator=ElasticNet(max_iter=32000, tol=0.01),\n",
       "             param_grid={'alpha': [0.05, 0.1, 1, 5, 10, 50, 100],\n",
       "                         'l1_ratio': [0.1, 0.2, 0.3, 0.4, 0.5, 0.6, 0.7, 0.8,\n",
       "                                      0.95, 0.99, 1]},\n",
       "             scoring='neg_mean_squared_error', verbose=2)"
      ]
     },
     "execution_count": 15,
     "metadata": {},
     "output_type": "execute_result"
    }
   ],
   "source": [
    "grid_model.fit(X_train, y_train)"
   ]
  },
  {
   "cell_type": "code",
   "execution_count": 16,
   "id": "19760169-4577-4cbb-bdeb-72a35be1ced8",
   "metadata": {},
   "outputs": [
    {
     "data": {
      "text/html": [
       "<style>#sk-container-id-2 {color: black;}#sk-container-id-2 pre{padding: 0;}#sk-container-id-2 div.sk-toggleable {background-color: white;}#sk-container-id-2 label.sk-toggleable__label {cursor: pointer;display: block;width: 100%;margin-bottom: 0;padding: 0.3em;box-sizing: border-box;text-align: center;}#sk-container-id-2 label.sk-toggleable__label-arrow:before {content: \"▸\";float: left;margin-right: 0.25em;color: #696969;}#sk-container-id-2 label.sk-toggleable__label-arrow:hover:before {color: black;}#sk-container-id-2 div.sk-estimator:hover label.sk-toggleable__label-arrow:before {color: black;}#sk-container-id-2 div.sk-toggleable__content {max-height: 0;max-width: 0;overflow: hidden;text-align: left;background-color: #f0f8ff;}#sk-container-id-2 div.sk-toggleable__content pre {margin: 0.2em;color: black;border-radius: 0.25em;background-color: #f0f8ff;}#sk-container-id-2 input.sk-toggleable__control:checked~div.sk-toggleable__content {max-height: 200px;max-width: 100%;overflow: auto;}#sk-container-id-2 input.sk-toggleable__control:checked~label.sk-toggleable__label-arrow:before {content: \"▾\";}#sk-container-id-2 div.sk-estimator input.sk-toggleable__control:checked~label.sk-toggleable__label {background-color: #d4ebff;}#sk-container-id-2 div.sk-label input.sk-toggleable__control:checked~label.sk-toggleable__label {background-color: #d4ebff;}#sk-container-id-2 input.sk-hidden--visually {border: 0;clip: rect(1px 1px 1px 1px);clip: rect(1px, 1px, 1px, 1px);height: 1px;margin: -1px;overflow: hidden;padding: 0;position: absolute;width: 1px;}#sk-container-id-2 div.sk-estimator {font-family: monospace;background-color: #f0f8ff;border: 1px dotted black;border-radius: 0.25em;box-sizing: border-box;margin-bottom: 0.5em;}#sk-container-id-2 div.sk-estimator:hover {background-color: #d4ebff;}#sk-container-id-2 div.sk-parallel-item::after {content: \"\";width: 100%;border-bottom: 1px solid gray;flex-grow: 1;}#sk-container-id-2 div.sk-label:hover label.sk-toggleable__label {background-color: #d4ebff;}#sk-container-id-2 div.sk-serial::before {content: \"\";position: absolute;border-left: 1px solid gray;box-sizing: border-box;top: 0;bottom: 0;left: 50%;z-index: 0;}#sk-container-id-2 div.sk-serial {display: flex;flex-direction: column;align-items: center;background-color: white;padding-right: 0.2em;padding-left: 0.2em;position: relative;}#sk-container-id-2 div.sk-item {position: relative;z-index: 1;}#sk-container-id-2 div.sk-parallel {display: flex;align-items: stretch;justify-content: center;background-color: white;position: relative;}#sk-container-id-2 div.sk-item::before, #sk-container-id-2 div.sk-parallel-item::before {content: \"\";position: absolute;border-left: 1px solid gray;box-sizing: border-box;top: 0;bottom: 0;left: 50%;z-index: -1;}#sk-container-id-2 div.sk-parallel-item {display: flex;flex-direction: column;z-index: 1;position: relative;background-color: white;}#sk-container-id-2 div.sk-parallel-item:first-child::after {align-self: flex-end;width: 50%;}#sk-container-id-2 div.sk-parallel-item:last-child::after {align-self: flex-start;width: 50%;}#sk-container-id-2 div.sk-parallel-item:only-child::after {width: 0;}#sk-container-id-2 div.sk-dashed-wrapped {border: 1px dashed gray;margin: 0 0.4em 0.5em 0.4em;box-sizing: border-box;padding-bottom: 0.4em;background-color: white;}#sk-container-id-2 div.sk-label label {font-family: monospace;font-weight: bold;display: inline-block;line-height: 1.2em;}#sk-container-id-2 div.sk-label-container {text-align: center;}#sk-container-id-2 div.sk-container {/* jupyter's `normalize.less` sets `[hidden] { display: none; }` but bootstrap.min.css set `[hidden] { display: none !important; }` so we also need the `!important` here to be able to override the default hidden behavior on the sphinx rendered scikit-learn.org. See: https://github.com/scikit-learn/scikit-learn/issues/21755 */display: inline-block !important;position: relative;}#sk-container-id-2 div.sk-text-repr-fallback {display: none;}</style><div id=\"sk-container-id-2\" class=\"sk-top-container\"><div class=\"sk-text-repr-fallback\"><pre>ElasticNet(alpha=1, l1_ratio=1, max_iter=32000, tol=0.01)</pre><b>In a Jupyter environment, please rerun this cell to show the HTML representation or trust the notebook. <br />On GitHub, the HTML representation is unable to render, please try loading this page with nbviewer.org.</b></div><div class=\"sk-container\" hidden><div class=\"sk-item\"><div class=\"sk-estimator sk-toggleable\"><input class=\"sk-toggleable__control sk-hidden--visually\" id=\"sk-estimator-id-4\" type=\"checkbox\" checked><label for=\"sk-estimator-id-4\" class=\"sk-toggleable__label sk-toggleable__label-arrow\">ElasticNet</label><div class=\"sk-toggleable__content\"><pre>ElasticNet(alpha=1, l1_ratio=1, max_iter=32000, tol=0.01)</pre></div></div></div></div></div>"
      ],
      "text/plain": [
       "ElasticNet(alpha=1, l1_ratio=1, max_iter=32000, tol=0.01)"
      ]
     },
     "execution_count": 16,
     "metadata": {},
     "output_type": "execute_result"
    }
   ],
   "source": [
    "grid_model.best_estimator_"
   ]
  },
  {
   "cell_type": "code",
   "execution_count": 17,
   "id": "662cfbae-2122-41eb-9997-aa8c6df9765b",
   "metadata": {},
   "outputs": [
    {
     "data": {
      "text/plain": [
       "{'alpha': 1, 'l1_ratio': 1}"
      ]
     },
     "execution_count": 17,
     "metadata": {},
     "output_type": "execute_result"
    }
   ],
   "source": [
    "grid_model.best_params_"
   ]
  },
  {
   "cell_type": "code",
   "execution_count": 18,
   "id": "03edd04a-ad5a-4961-8865-da5229465ab8",
   "metadata": {},
   "outputs": [],
   "source": [
    "y_pred = grid_model.predict(X_test)"
   ]
  },
  {
   "cell_type": "code",
   "execution_count": 19,
   "id": "ac4afb38-bf5f-47ac-b884-f109771b3831",
   "metadata": {},
   "outputs": [
    {
     "data": {
      "text/plain": [
       "254.19928599672508"
      ]
     },
     "execution_count": 19,
     "metadata": {},
     "output_type": "execute_result"
    }
   ],
   "source": [
    "mean_absolute_error(y_test, y_pred)"
   ]
  },
  {
   "cell_type": "code",
   "execution_count": 20,
   "id": "e8d6db82-c051-494e-939a-27c30002378e",
   "metadata": {},
   "outputs": [
    {
     "data": {
      "text/plain": [
       "300.740293382115"
      ]
     },
     "execution_count": 20,
     "metadata": {},
     "output_type": "execute_result"
    }
   ],
   "source": [
    "np.sqrt(mean_squared_error(y_test, y_pred))"
   ]
  },
  {
   "cell_type": "code",
   "execution_count": 21,
   "id": "76b97f9d-f9ec-4270-b8f9-3b19081db312",
   "metadata": {},
   "outputs": [
    {
     "data": {
      "text/plain": [
       "611.0"
      ]
     },
     "execution_count": 21,
     "metadata": {},
     "output_type": "execute_result"
    }
   ],
   "source": [
    "df['OxbowFlow'].mean().round()"
   ]
  },
  {
   "cell_type": "code",
   "execution_count": 36,
   "id": "4e80d114-147e-490a-a5eb-9ee3ee426505",
   "metadata": {},
   "outputs": [
    {
     "data": {
      "text/plain": [
       "49.19"
      ]
     },
     "execution_count": 36,
     "metadata": {},
     "output_type": "execute_result"
    }
   ],
   "source": [
    "np.round(np.sqrt(mean_squared_error(y_test, y_pred)) / df['OxbowFlow'].mean() * 100,2) # our deviation in %"
   ]
  },
  {
   "cell_type": "markdown",
   "id": "c2fd9856-d1e1-4fde-897c-7ac950088b01",
   "metadata": {},
   "source": [
    "### Make a prediction with some future (fake) data"
   ]
  },
  {
   "cell_type": "code",
   "execution_count": 35,
   "id": "3c68434a-cc50-4e2f-8b96-84654e7f55dc",
   "metadata": {},
   "outputs": [
    {
     "data": {
      "text/plain": [
       "array([-0.87926449, -0.84625636, -1.22263376, -0.71041883, -1.11596402])"
      ]
     },
     "execution_count": 35,
     "metadata": {},
     "output_type": "execute_result"
    }
   ],
   "source": [
    "X_test[0]"
   ]
  },
  {
   "cell_type": "code",
   "execution_count": 43,
   "id": "938eee0b-dfe6-40a9-94e8-efcbf2811bba",
   "metadata": {},
   "outputs": [],
   "source": [
    "X_dummy = [160707.4, 5.00, 1.0, 58.0, 35.027855] # Storage, Gas Price,\tDay of Year, Max Temp, Caiso Price"
   ]
  },
  {
   "cell_type": "code",
   "execution_count": 32,
   "id": "2f8dc902-b2b8-4a05-9f9d-b0832e92ee30",
   "metadata": {},
   "outputs": [
    {
     "name": "stderr",
     "output_type": "stream",
     "text": [
      "/Users/abe/.local/share/virtualenvs/model-demo-Q-iH097J/lib/python3.11/site-packages/sklearn/base.py:464: UserWarning: X does not have valid feature names, but StandardScaler was fitted with feature names\n",
      "  warnings.warn(\n"
     ]
    }
   ],
   "source": [
    "X_dummy_scaled = scaler.transform([X_dummy])"
   ]
  },
  {
   "cell_type": "code",
   "execution_count": 33,
   "id": "49af7ad8-6370-48db-8671-733dae10eec2",
   "metadata": {},
   "outputs": [
    {
     "data": {
      "text/plain": [
       "array([[-0.57657754,  0.85207547, -1.68677078, -0.21888155, -0.18905305]])"
      ]
     },
     "execution_count": 33,
     "metadata": {},
     "output_type": "execute_result"
    }
   ],
   "source": [
    "X_dummy_scaled"
   ]
  },
  {
   "cell_type": "code",
   "execution_count": 37,
   "id": "eb176831-72f6-469b-a2f3-13cd9d36220b",
   "metadata": {},
   "outputs": [],
   "source": [
    "y_future_pred = grid_model.predict(X_dummy_scaled)"
   ]
  },
  {
   "cell_type": "code",
   "execution_count": 42,
   "id": "a0de82b5-ac13-417d-8bbe-e8707cf193c7",
   "metadata": {},
   "outputs": [
    {
     "data": {
      "text/plain": [
       "448"
      ]
     },
     "execution_count": 42,
     "metadata": {},
     "output_type": "execute_result"
    }
   ],
   "source": [
    "y_future_pred[0].astype(int) # in cfs"
   ]
  }
 ],
 "metadata": {
  "kernelspec": {
   "display_name": "Python 3 (ipykernel)",
   "language": "python",
   "name": "python3"
  },
  "language_info": {
   "codemirror_mode": {
    "name": "ipython",
    "version": 3
   },
   "file_extension": ".py",
   "mimetype": "text/x-python",
   "name": "python",
   "nbconvert_exporter": "python",
   "pygments_lexer": "ipython3",
   "version": "3.11.4"
  }
 },
 "nbformat": 4,
 "nbformat_minor": 5
}
